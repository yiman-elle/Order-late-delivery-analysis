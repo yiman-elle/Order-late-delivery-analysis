{
 "cells": [
  {
   "cell_type": "markdown",
   "id": "5b1c522b",
   "metadata": {},
   "source": [
    "# Orders Late Delivery Analysis"
   ]
  },
  {
   "cell_type": "markdown",
   "id": "b0909f2d",
   "metadata": {},
   "source": [
    "## Data Cleaning and Exploration"
   ]
  },
  {
   "cell_type": "code",
   "execution_count": 1,
   "id": "fadef2a7",
   "metadata": {},
   "outputs": [],
   "source": [
    "# import packages\n",
    "\n",
    "import pandas as pd\n",
    "import numpy as np\n",
    "import matplotlib.pyplot as plt\n",
    "import seaborn as sns"
   ]
  },
  {
   "cell_type": "code",
   "execution_count": 2,
   "id": "95cc055d",
   "metadata": {},
   "outputs": [],
   "source": [
    "# import data\n",
    "\n",
    "data=pd.read_csv(r'C:\\Users\\Elle\\Downloads\\DataCoSupplyChainDataset.csv', encoding='unicode_escape')\n",
    "data.head()\n",
    "formater='{0:.02f}'.format"
   ]
  },
  {
   "cell_type": "code",
   "execution_count": 3,
   "id": "95dbb7e2",
   "metadata": {},
   "outputs": [
    {
     "data": {
      "text/plain": [
       "(180519, 53)"
      ]
     },
     "execution_count": 3,
     "metadata": {},
     "output_type": "execute_result"
    }
   ],
   "source": [
    "# check data \n",
    "\n",
    "data.shape"
   ]
  },
  {
   "cell_type": "code",
   "execution_count": 4,
   "id": "6e95ea0a",
   "metadata": {},
   "outputs": [
    {
     "data": {
      "text/plain": [
       "Type                                  0\n",
       "Days for shipping (real)              0\n",
       "Days for shipment (scheduled)         0\n",
       "Benefit per order                     0\n",
       "Sales per customer                    0\n",
       "Delivery Status                       0\n",
       "Late_delivery_risk                    0\n",
       "Category Id                           0\n",
       "Category Name                         0\n",
       "Customer City                         0\n",
       "Customer Country                      0\n",
       "Customer Email                        0\n",
       "Customer Fname                        0\n",
       "Customer Id                           0\n",
       "Customer Lname                        8\n",
       "Customer Password                     0\n",
       "Customer Segment                      0\n",
       "Customer State                        0\n",
       "Customer Street                       0\n",
       "Customer Zipcode                      3\n",
       "Department Id                         0\n",
       "Department Name                       0\n",
       "Latitude                              0\n",
       "Longitude                             0\n",
       "Market                                0\n",
       "Order City                            0\n",
       "Order Country                         0\n",
       "Order Customer Id                     0\n",
       "order date (DateOrders)               0\n",
       "Order Id                              0\n",
       "Order Item Cardprod Id                0\n",
       "Order Item Discount                   0\n",
       "Order Item Discount Rate              0\n",
       "Order Item Id                         0\n",
       "Order Item Product Price              0\n",
       "Order Item Profit Ratio               0\n",
       "Order Item Quantity                   0\n",
       "Sales                                 0\n",
       "Order Item Total                      0\n",
       "Order Profit Per Order                0\n",
       "Order Region                          0\n",
       "Order State                           0\n",
       "Order Status                          0\n",
       "Order Zipcode                    155679\n",
       "Product Card Id                       0\n",
       "Product Category Id                   0\n",
       "Product Description              180519\n",
       "Product Image                         0\n",
       "Product Name                          0\n",
       "Product Price                         0\n",
       "Product Status                        0\n",
       "shipping date (DateOrders)            0\n",
       "Shipping Mode                         0\n",
       "dtype: int64"
      ]
     },
     "execution_count": 4,
     "metadata": {},
     "output_type": "execute_result"
    }
   ],
   "source": [
    "# check for null value\n",
    "\n",
    "data.isnull().sum()"
   ]
  },
  {
   "cell_type": "code",
   "execution_count": 5,
   "id": "01792d68",
   "metadata": {},
   "outputs": [
    {
     "data": {
      "text/plain": [
       "0"
      ]
     },
     "execution_count": 5,
     "metadata": {},
     "output_type": "execute_result"
    }
   ],
   "source": [
    "# check for duplicated value\n",
    "\n",
    "data.duplicated().sum()"
   ]
  },
  {
   "cell_type": "markdown",
   "id": "232b2888",
   "metadata": {},
   "source": [
    "## Late Delivery Analysis 延误分析"
   ]
  },
  {
   "cell_type": "code",
   "execution_count": 6,
   "id": "3fb6008b",
   "metadata": {
    "scrolled": true
   },
   "outputs": [
    {
     "data": {
      "text/plain": [
       "Late delivery        98977\n",
       "Advance shipping     41592\n",
       "Shipping on time     32196\n",
       "Shipping canceled     7754\n",
       "Name: Delivery Status, dtype: int64"
      ]
     },
     "execution_count": 6,
     "metadata": {},
     "output_type": "execute_result"
    }
   ],
   "source": [
    "# Delivery Status\n",
    "\n",
    "data['Delivery Status'].value_counts()"
   ]
  },
  {
   "cell_type": "code",
   "execution_count": 7,
   "id": "08849a14",
   "metadata": {},
   "outputs": [
    {
     "data": {
      "text/plain": [
       "<function matplotlib.pyplot.show(close=None, block=None)>"
      ]
     },
     "execution_count": 7,
     "metadata": {},
     "output_type": "execute_result"
    },
    {
     "data": {
      "image/png": "[encoded data removed]",
      "text/plain": [
       "<Figure size 432x288 with 1 Axes>"
      ]
     },
     "metadata": {
      "needs_background": "light"
     },
     "output_type": "display_data"
    }
   ],
   "source": [
    "data['Delivery Status'].value_counts().plot(kind='bar')\n",
    "plt.xticks(rotation=30)\n",
    "plt.show"
   ]
  },
  {
   "cell_type": "code",
   "execution_count": 8,
   "id": "81e045d7",
   "metadata": {},
   "outputs": [
    {
     "data": {
      "text/plain": [
       "1    98977\n",
       "0    81542\n",
       "Name: Late_delivery_risk, dtype: int64"
      ]
     },
     "execution_count": 8,
     "metadata": {},
     "output_type": "execute_result"
    }
   ],
   "source": [
    "# Late_delivery_risk\n",
    "\n",
    "data['Late_delivery_risk'].value_counts()"
   ]
  },
  {
   "cell_type": "markdown",
   "id": "e23a5722",
   "metadata": {},
   "source": [
    "**Inference:** More than half of shipments suffer from late delivery risk. It worths digging deep to the root cause and figure out how we can deal with it."
   ]
  },
  {
   "cell_type": "code",
   "execution_count": 9,
   "id": "580906c7",
   "metadata": {},
   "outputs": [
    {
     "data": {
      "text/plain": [
       "array(['Pacific Asia', 'USCA', 'Africa', 'Europe', 'LATAM'], dtype=object)"
      ]
     },
     "execution_count": 9,
     "metadata": {},
     "output_type": "execute_result"
    }
   ],
   "source": [
    "# If there’s a relationship between market and late delivery?\n",
    "\n",
    "market=data['Market'].unique()\n",
    "market"
   ]
  },
  {
   "cell_type": "code",
   "execution_count": 10,
   "id": "cdeed07c",
   "metadata": {},
   "outputs": [
    {
     "data": {
      "text/plain": [
       "<matplotlib.legend.Legend at 0x16b807ce760>"
      ]
     },
     "execution_count": 10,
     "metadata": {},
     "output_type": "execute_result"
    },
    {
     "data": {
      "image/png": "[encoded data removed]",
      "text/plain": [
       "<Figure size 432x288 with 1 Axes>"
      ]
     },
     "metadata": {
      "needs_background": "light"
     },
     "output_type": "display_data"
    }
   ],
   "source": [
    "\n",
    "late_delivery_per_market=data[['Market','Late_delivery_risk']].groupby(by=['Market','Late_delivery_risk']).agg(number=('Late_delivery_risk','count')).reset_index()\n",
    "total=data.groupby('Market', as_index = False).agg(count = ('Market', 'count'))\n",
    "late_delivery_per_market=late_delivery_per_market.merge(total, on = 'Market', how = 'left')\n",
    "late_delivery_per_market.rename(columns={'count': 'total_number'}, inplace=True)\n",
    "late_delivery_per_market['percentage'] = late_delivery_per_market.number/late_delivery_per_market.total_number*100\n",
    "late_delivery_per_market\n",
    "market=['Pacific Asia', 'USCA', 'Africa', 'Europe', 'LATAM']\n",
    "for x in market:\n",
    "    group=late_delivery_per_market[late_delivery_per_market['Market']==x]\n",
    "    group=group.pivot(index='Market', columns='Late_delivery_risk', values=['percentage'])\n",
    "    exec(f\"{x.replace(' ','_')}= group\")\n",
    "\n",
    "market_late_delivery=pd.concat([Pacific_Asia,USCA,Africa, Europe,LATAM])\n",
    "market_late_delivery.plot(kind='bar',stacked=True)\n",
    "plt.xlabel('Market')\n",
    "plt.ylabel('Percentage')\n",
    "plt.title('Late Delivery Risk by Market')\n",
    "plt.xticks(rotation=30)\n",
    "plt.legend(loc='lower left', prop={'size': 8})\n",
    "# market_late_delivery"
   ]
  },
  {
   "cell_type": "markdown",
   "id": "38547c58",
   "metadata": {},
   "source": [
    "**Inference:** There's almost no difference in each market, so it seems no relation between Market and late delivery risk."
   ]
  },
  {
   "cell_type": "code",
   "execution_count": 11,
   "id": "f880f3ea",
   "metadata": {},
   "outputs": [
    {
     "data": {
      "text/plain": [
       "array(['Fitness', 'Apparel', 'Golf', 'Footwear', 'Outdoors', 'Fan Shop',\n",
       "       'Technology', 'Book Shop', 'Discs Shop', 'Pet Shop',\n",
       "       'Health and Beauty '], dtype=object)"
      ]
     },
     "execution_count": 11,
     "metadata": {},
     "output_type": "execute_result"
    }
   ],
   "source": [
    "# Is there any relation with different departments?\n",
    "\n",
    "department=data['Department Name'].unique()\n",
    "department"
   ]
  },
  {
   "cell_type": "code",
   "execution_count": 12,
   "id": "d86e83f7",
   "metadata": {},
   "outputs": [
    {
     "data": {
      "text/plain": [
       "<matplotlib.legend.Legend at 0x16b8091b2b0>"
      ]
     },
     "execution_count": 12,
     "metadata": {},
     "output_type": "execute_result"
    },
    {
     "data": {
      "image/png": "[encoded data removed]",
      "text/plain": [
       "<Figure size 432x288 with 1 Axes>"
      ]
     },
     "metadata": {
      "needs_background": "light"
     },
     "output_type": "display_data"
    }
   ],
   "source": [
    "late_delivery_per_department=data[['Department Name','Late_delivery_risk']].groupby(by=['Department Name','Late_delivery_risk']).agg(number=('Late_delivery_risk','count')).reset_index()\n",
    "total=data.groupby('Department Name', as_index = False).agg(count = ('Department Name', 'count'))\n",
    "late_delivery_per_department=late_delivery_per_department.merge(total, on = 'Department Name', how = 'left')\n",
    "late_delivery_per_department.rename(columns={'count': 'total_number'}, inplace=True)\n",
    "late_delivery_per_department['percentage'] = late_delivery_per_department.number/late_delivery_per_department.total_number*100\n",
    "late_delivery_per_department\n",
    "department=['Fitness', 'Apparel', 'Golf', 'Footwear', 'Outdoors', 'Fan Shop',\n",
    "       'Technology', 'Book Shop', 'Discs Shop', 'Pet Shop',\n",
    "       'Health and Beauty']\n",
    "for x in department:\n",
    "    group=late_delivery_per_department[late_delivery_per_department['Department Name']==x]\n",
    "    group=group.pivot(index='Department Name', columns='Late_delivery_risk', values=['percentage'])\n",
    "    exec(f\"{x.replace(' ','_')}= group\")\n",
    "\n",
    "department_late_delivery=pd.concat([Fitness, Apparel, Golf, Footwear, Outdoors, Fan_Shop,\n",
    "       Technology, Book_Shop, Discs_Shop, Pet_Shop, Health_and_Beauty])\n",
    "department_late_delivery.plot(kind='bar',stacked=True)\n",
    "plt.xlabel('Department')\n",
    "plt.ylabel('Percentage')\n",
    "plt.title('Late Delivery Risk by Department')\n",
    "plt.xticks(rotation=30)\n",
    "plt.legend(loc='lower left', prop={'size': 8})"
   ]
  },
  {
   "cell_type": "code",
   "execution_count": 13,
   "id": "954009a8",
   "metadata": {},
   "outputs": [
    {
     "data": {
      "text/plain": [
       "array(['Standard Class', 'First Class', 'Second Class', 'Same Day'],\n",
       "      dtype=object)"
      ]
     },
     "execution_count": 13,
     "metadata": {},
     "output_type": "execute_result"
    }
   ],
   "source": [
    "# Is there any relation with Shipping Mode?\n",
    "\n",
    "mode=data['Shipping Mode'].unique()\n",
    "mode\n"
   ]
  },
  {
   "cell_type": "code",
   "execution_count": 14,
   "id": "13baceb4",
   "metadata": {
    "scrolled": true
   },
   "outputs": [
    {
     "data": {
      "text/plain": [
       "<matplotlib.legend.Legend at 0x16b809d10d0>"
      ]
     },
     "execution_count": 14,
     "metadata": {},
     "output_type": "execute_result"
    },
    {
     "data": {
      "image/png": "[encoded data removed]",
      "text/plain": [
       "<Figure size 432x288 with 1 Axes>"
      ]
     },
     "metadata": {
      "needs_background": "light"
     },
     "output_type": "display_data"
    }
   ],
   "source": [
    "late_delivery_per_mode=data[['Shipping Mode','Late_delivery_risk']].groupby(by=['Shipping Mode','Late_delivery_risk']).agg(number=('Late_delivery_risk','count')).reset_index()\n",
    "total=data.groupby('Shipping Mode', as_index = False).agg(count = ('Shipping Mode', 'count'))\n",
    "late_delivery_per_mode=late_delivery_per_mode.merge(total, on = 'Shipping Mode', how = 'left')\n",
    "late_delivery_per_mode.rename(columns={'count': 'total_number'}, inplace=True)\n",
    "late_delivery_per_mode['percentage'] = late_delivery_per_mode.number/late_delivery_per_mode.total_number*100\n",
    "late_delivery_per_mode\n",
    "mode=['Standard Class', 'First Class', 'Second Class', 'Same Day']\n",
    "\n",
    "for x in mode:\n",
    "    group=late_delivery_per_mode[late_delivery_per_mode['Shipping Mode']==x]\n",
    "    group=group.pivot(index='Shipping Mode', columns='Late_delivery_risk', values=['percentage'])\n",
    "    exec(f\"{x.replace(' ','_')}= group\")\n",
    "\n",
    "mode_late_delivery=pd.concat([Standard_Class, First_Class, Second_Class, Same_Day])\n",
    "mode_late_delivery.plot(kind='bar',stacked=True)\n",
    "plt.xlabel('Shipping Mode')\n",
    "plt.ylabel('Percentage')\n",
    "plt.title('Late Delivery Risk by Shipping Mode')\n",
    "plt.xticks(rotation=30)\n",
    "plt.legend(loc='lower left', prop={'size': 8})"
   ]
  },
  {
   "cell_type": "markdown",
   "id": "0427b99e",
   "metadata": {},
   "source": [
    "**Inference:** It's obvious First Class has highest possibility on risking late delivery."
   ]
  },
  {
   "cell_type": "code",
   "execution_count": 17,
   "id": "4df6e0a1",
   "metadata": {},
   "outputs": [],
   "source": [
    "# OrderDate - ShippingDate\n",
    "# 从客户下单到开始运输之间的时间\n",
    "\n",
    "# datetime type transformation\n",
    "from datetime import datetime\n",
    "\n",
    "data['shipping date (DateOrders)']=pd.to_datetime(data['shipping date (DateOrders)'])\n",
    "data['order date (DateOrders)']=pd.to_datetime(data['order date (DateOrders)'])\n",
    "data['order_delay']=data['shipping date (DateOrders)']-data['order date (DateOrders)']\n",
    "data['order_delay']=data['order_delay'].apply(lambda x: str(x.days)+'days')\n",
    "\n",
    "# replace with non-value string for later arrangement\n",
    "def rep(data, dict_rep):\n",
    "    for i in dict_rep:\n",
    "        data=data.replace(i,dict_rep[i] )\n",
    "    return data\n",
    "\n",
    "data['order_delay']=rep(data['order_delay'], {'3days':'three days', '5days':'five days', '4days':'four days', '2days':'two days', '6days':'six days', '0days':'zero'})\n"
   ]
  },
  {
   "cell_type": "code",
   "execution_count": 18,
   "id": "99eb84f3",
   "metadata": {
    "scrolled": false
   },
   "outputs": [
    {
     "data": {
      "text/plain": [
       "<matplotlib.legend.Legend at 0x16b809b4a00>"
      ]
     },
     "execution_count": 18,
     "metadata": {},
     "output_type": "execute_result"
    },
    {
     "data": {
      "image/png": "[encoded data removed]",
      "text/plain": [
       "<Figure size 432x288 with 1 Axes>"
      ]
     },
     "metadata": {
      "needs_background": "light"
     },
     "output_type": "display_data"
    }
   ],
   "source": [
    "\n",
    "late_delivery_order_delay=data[['order_delay','Late_delivery_risk']].groupby(by=['order_delay','Late_delivery_risk']).agg(number=('Late_delivery_risk','count')).reset_index()\n",
    "total=data.groupby('order_delay', as_index = False).agg(count = ('order_delay', 'count'))\n",
    "late_delivery_order_delay=late_delivery_order_delay.merge(total, on = 'order_delay', how = 'left')\n",
    "late_delivery_order_delay.rename(columns={'count': 'total_number'}, inplace=True)\n",
    "late_delivery_order_delay['percentage'] = late_delivery_order_delay.number/late_delivery_order_delay.total_number*100\n",
    "late_delivery_order_delay\n",
    "order_delay=['zero', 'two days', 'three days', 'four days', 'five days','six days']\n",
    "for x in order_delay:\n",
    "    group=late_delivery_order_delay[late_delivery_order_delay['order_delay']==x]\n",
    "    group=group.pivot(index='order_delay', columns='Late_delivery_risk', values=['percentage'])\n",
    "    exec(f\"{x.replace(' ', '_')}= group\")\n",
    "\n",
    "order_delay_late_delivery=pd.concat([zero, two_days, three_days, four_days, five_days,six_days])\n",
    "order_delay_late_delivery.plot(kind='bar',stacked=True)\n",
    "plt.xlabel('order_delay')\n",
    "plt.ylabel('Percentage')\n",
    "plt.title('Late Delivery Risk by order_delay')\n",
    "plt.xticks(rotation=30)\n",
    "plt.legend(loc='lower left', prop={'size': 8})"
   ]
  },
  {
   "cell_type": "markdown",
   "id": "6b89281d",
   "metadata": {},
   "source": [
    "**Inference:** If order delays more than 4 days, most likely the delivery will delay."
   ]
  },
  {
   "cell_type": "code",
   "execution_count": 19,
   "id": "b37fcef0",
   "metadata": {},
   "outputs": [
    {
     "data": {
      "text/plain": [
       "0         Fri\n",
       "1         Wed\n",
       "2         Tue\n",
       "3         Mon\n",
       "4         Sun\n",
       "         ... \n",
       "180514    Tue\n",
       "180515    Mon\n",
       "180516    Tue\n",
       "180517    Sun\n",
       "180518    Mon\n",
       "Name: week_day, Length: 180519, dtype: object"
      ]
     },
     "execution_count": 19,
     "metadata": {},
     "output_type": "execute_result"
    }
   ],
   "source": [
    "# If there is any relation with shipping on which weekday?\n",
    "\n",
    "# add a new column for weekday information.\n",
    "data['week_day']=data['shipping date (DateOrders)'].apply(lambda x: str(x.weekday()))\n",
    "def rep(data, dict_rep):\n",
    "    for i in dict_rep:\n",
    "        data=data.replace(i,dict_rep[i] )\n",
    "    return data\n",
    "data['week_day']=rep(data['week_day'], {'0':'Sun', '1':'Mon','2':'Tue','3':'Wed','4':'Tur','5':'Fri','6':'Sat'})\n",
    "data['week_day']"
   ]
  },
  {
   "cell_type": "code",
   "execution_count": 20,
   "id": "27496fd3",
   "metadata": {},
   "outputs": [
    {
     "data": {
      "text/plain": [
       "<matplotlib.legend.Legend at 0x16b81a6b160>"
      ]
     },
     "execution_count": 20,
     "metadata": {},
     "output_type": "execute_result"
    },
    {
     "data": {
      "image/png": "[encoded data removed]",
      "text/plain": [
       "<Figure size 432x288 with 1 Axes>"
      ]
     },
     "metadata": {
      "needs_background": "light"
     },
     "output_type": "display_data"
    }
   ],
   "source": [
    "late_delivery_week_day=data[['week_day','Late_delivery_risk']].groupby(by=['week_day','Late_delivery_risk']).agg(number=('Late_delivery_risk','count')).reset_index()\n",
    "total=data.groupby('week_day', as_index = False).agg(count = ('week_day', 'count'))\n",
    "late_delivery_week_day=late_delivery_week_day.merge(total, on = 'week_day', how = 'left')\n",
    "late_delivery_week_day.rename(columns={'count': 'total_number'}, inplace=True)\n",
    "late_delivery_week_day['percentage'] = late_delivery_week_day.number/late_delivery_week_day.total_number*100\n",
    "late_delivery_week_day\n",
    "week_day=['Sun', 'Mon', 'Tue', 'Wed', 'Fri','Sat']\n",
    "for x in week_day:\n",
    "    group=late_delivery_week_day[late_delivery_week_day['week_day']==x]\n",
    "    group=group.pivot(index='week_day', columns='Late_delivery_risk', values=['percentage'])\n",
    "    exec(f\"{x}= group\")\n",
    "\n",
    "week_day_late_delivery=pd.concat([Sun, Mon, Tue, Wed, Fri,Sat])\n",
    "week_day_late_delivery.plot(kind='bar',stacked=True)\n",
    "plt.xlabel('week_day')\n",
    "plt.ylabel('Percentage')\n",
    "plt.title('Late Delivery Risk by week_day')\n",
    "plt.xticks(rotation=30)\n",
    "plt.legend(loc='lower left', prop={'size': 8})"
   ]
  },
  {
   "cell_type": "markdown",
   "id": "bb4ce9c1",
   "metadata": {},
   "source": [
    "**Inference:** Apparently, there is no difference whether you ship on which day."
   ]
  },
  {
   "cell_type": "markdown",
   "id": "1007c128",
   "metadata": {},
   "source": [
    "## Conclusion and Recommendation"
   ]
  },
  {
   "cell_type": "markdown",
   "id": "b62cb78c",
   "metadata": {},
   "source": [
    "It was observed that **shipping method** and **Order Delay** were the two biggest factors in determining whether a package would be delayed. <p>\n",
    "    1.It is recommended that a program implemented to minimize the amount of time from when the order was placed to the time it was shipped. Further operational studies may be needed to determine the best method to minimize Order Delay.<p>\n",
    "    2. Since shipping method also played a large role in determining whether a package would be late, a cost/benefit analysis of either a subscription-based model or a customer loyalty program that prioritizes subscribers or loyal customer shipments. <p>\n",
    "    3. Further effor will be needed to build up a prediction model, which will help monitor the order status in time. If the model predicts that a package will be late, then the risk could be mitigated by either expediting the shipment or by setting the shipment method to First Class or same day. If a late delivery is unpreventable, the marketing team could employ a customer loyalty discount program such that the customer received a discount on their next purchase.\n",
    "    "
   ]
  }
 ],
 "metadata": {
  "kernelspec": {
   "display_name": "Python 3 (ipykernel)",
   "language": "python",
   "name": "python3"
  },
  "language_info": {
   "codemirror_mode": {
    "name": "ipython",
    "version": 3
   },
   "file_extension": ".py",
   "mimetype": "text/x-python",
   "name": "python",
   "nbconvert_exporter": "python",
   "pygments_lexer": "ipython3",
   "version": "3.9.12"
  }
 },
 "nbformat": 4,
 "nbformat_minor": 5
}
